{
 "cells": [
  {
   "cell_type": "code",
   "execution_count": 1,
   "metadata": {},
   "outputs": [],
   "source": [
    "class TreeNode:\n",
    "    \n",
    "    def __init__(self, x ,y):\n",
    "        self.val = x\n",
    "        self.weight = y\n",
    "        self.left = None\n",
    "        self.right = None\n",
    "        "
   ]
  },
  {
   "cell_type": "code",
   "execution_count": 2,
   "metadata": {},
   "outputs": [],
   "source": [
    "class BST(TreeNode): \n",
    "    count = 0 \n",
    "    def __init__(self, val, weight):\n",
    "        \n",
    "        self.root = TreeNode(val, weight)\n",
    "        self.count = 0\n",
    "\n",
    "        \n",
    "    \n",
    "    def insert(self, val,y):\n",
    "        self.weight = y\n",
    "        current = self.root\n",
    "        if val < current.val:    # insert into left \n",
    "            if current.left is None: \n",
    "                new_node = BST(val,y) \n",
    "                current.left = new_node \n",
    "            else: \n",
    "                current.left.insert(val,y) \n",
    "        \n",
    "        else: # greater \n",
    "            if current.right is None: \n",
    "                current.right = BST(val,y) \n",
    "            else: \n",
    "                current.right.insert(val,y) "
   ]
  },
  {
   "cell_type": "code",
   "execution_count": 3,
   "metadata": {},
   "outputs": [],
   "source": [
    "def dfs(self,root): \n",
    "    \n",
    "    print(self.root.val) \n",
    "    \n",
    "    if self.root.left: \n",
    "        self.root.left.dfs(self.root.left)\n",
    "    if self.root.right: \n",
    "        self.root.right.dfs(self.root.right) \n",
    "    \n",
    "TreeNode.dfs = dfs"
   ]
  },
  {
   "cell_type": "code",
   "execution_count": null,
   "metadata": {},
   "outputs": [],
   "source": []
  },
  {
   "cell_type": "code",
   "execution_count": null,
   "metadata": {},
   "outputs": [],
   "source": []
  },
  {
   "cell_type": "code",
   "execution_count": 4,
   "metadata": {},
   "outputs": [
    {
     "name": "stdout",
     "output_type": "stream",
     "text": [
      "50\n"
     ]
    }
   ],
   "source": [
    "b = BST(50,2) \n",
    "print(b.root.val)"
   ]
  },
  {
   "cell_type": "code",
   "execution_count": 5,
   "metadata": {},
   "outputs": [
    {
     "name": "stdout",
     "output_type": "stream",
     "text": [
      "50\n",
      "30\n",
      "15\n",
      "7\n",
      "22\n",
      "35\n",
      "31\n",
      "36\n",
      "70\n",
      "62\n",
      "57\n",
      "67\n",
      "87\n",
      "71\n",
      "97\n"
     ]
    }
   ],
   "source": [
    "b.insert(30,3)\n",
    "b.insert(15,4)\n",
    "b.insert(35,5)\n",
    "b.insert(7,6)\n",
    "b.insert(22,7)\n",
    "b.insert(31,8)\n",
    "b.insert(70,9)\n",
    "b.insert(62,10)\n",
    "b.insert(87,11)\n",
    "b.insert(57,12)\n",
    "b.insert(67,13)\n",
    "b.insert(71,14)\n",
    "b.insert(97,15)\n",
    "b.insert(36,17)\n",
    "\n",
    "\n",
    "\n",
    "b.dfs(b.root)"
   ]
  },
  {
   "cell_type": "code",
   "execution_count": 6,
   "metadata": {},
   "outputs": [
    {
     "name": "stdout",
     "output_type": "stream",
     "text": [
      "50\n"
     ]
    }
   ],
   "source": [
    "print(b.root.val)"
   ]
  },
  {
   "cell_type": "code",
   "execution_count": 7,
   "metadata": {},
   "outputs": [],
   "source": [
    "def uniform_cost_search(self,root, value ):\n",
    "    queue=[]\n",
    "    path=[]\n",
    "    current = root\n",
    "    if self.root is None:\n",
    "        return \n",
    "    if current.val == value:\n",
    "        path.append(self.root.val)\n",
    "        print(\"value found\")\n",
    "        return value\n",
    "    else:\n",
    "        queue.append(current)\n",
    "        path.append(current.val)\n",
    "        print(\"self weight =\" ,current.weight)\n",
    "        while queue:\n",
    "            \n",
    "            node = queue.pop(0)\n",
    "            if node.val == value:\n",
    "                print(\"key found\")\n",
    "                print(path)\n",
    "                return\n",
    "            if node.left is not None and node.right is not None:\n",
    "                print(node.weight)\n",
    "                if node.left.weight < node.right.weight:\n",
    "                    print(\"node.left.weight =\" , node.left.weight)\n",
    "                    print(\"node.right.weight = \" ,node.right.weight)\n",
    "                    print(\"lslllala\")\n",
    "                    queue.append(node.left)\n",
    "                    path.append(self.node.left.val)\n",
    "                else:\n",
    "                    print(\"node.right.weight = \" ,node.right.weight)\n",
    "                    print(\"hello world\")\n",
    "                    \n",
    "                    queue.append(node.right)\n",
    "                    path.append(node.right.val)\n",
    "                \n",
    "           \n",
    "                \n",
    "        print(path)\n",
    "        \n",
    "        if len(queue) < 0 :\n",
    "            print(\"key not found\")\n",
    "            return \n",
    "    \n",
    "TreeNode.uniform_cost_search = uniform_cost_search"
   ]
  },
  {
   "cell_type": "code",
   "execution_count": 8,
   "metadata": {},
   "outputs": [
    {
     "name": "stdout",
     "output_type": "stream",
     "text": [
      "self weight = 2\n",
      "2\n",
      "node.right.weight =  15\n",
      "hello world\n"
     ]
    },
    {
     "ename": "AttributeError",
     "evalue": "'BST' object has no attribute 'val'",
     "output_type": "error",
     "traceback": [
      "\u001b[0;31m---------------------------------------------------------------------------\u001b[0m",
      "\u001b[0;31mAttributeError\u001b[0m                            Traceback (most recent call last)",
      "\u001b[0;32m<ipython-input-8-dae3fab8182b>\u001b[0m in \u001b[0;36m<module>\u001b[0;34m\u001b[0m\n\u001b[0;32m----> 1\u001b[0;31m \u001b[0mb\u001b[0m\u001b[0;34m.\u001b[0m\u001b[0muniform_cost_search\u001b[0m\u001b[0;34m(\u001b[0m\u001b[0mb\u001b[0m\u001b[0;34m.\u001b[0m\u001b[0mroot\u001b[0m\u001b[0;34m,\u001b[0m \u001b[0;36m31\u001b[0m\u001b[0;34m)\u001b[0m\u001b[0;34m\u001b[0m\u001b[0;34m\u001b[0m\u001b[0m\n\u001b[0m",
      "\u001b[0;32m<ipython-input-7-ee4f7fd353ca>\u001b[0m in \u001b[0;36muniform_cost_search\u001b[0;34m(self, root, value)\u001b[0m\n\u001b[1;32m     33\u001b[0m \u001b[0;34m\u001b[0m\u001b[0m\n\u001b[1;32m     34\u001b[0m                     \u001b[0mqueue\u001b[0m\u001b[0;34m.\u001b[0m\u001b[0mappend\u001b[0m\u001b[0;34m(\u001b[0m\u001b[0mnode\u001b[0m\u001b[0;34m.\u001b[0m\u001b[0mright\u001b[0m\u001b[0;34m)\u001b[0m\u001b[0;34m\u001b[0m\u001b[0;34m\u001b[0m\u001b[0m\n\u001b[0;32m---> 35\u001b[0;31m                     \u001b[0mpath\u001b[0m\u001b[0;34m.\u001b[0m\u001b[0mappend\u001b[0m\u001b[0;34m(\u001b[0m\u001b[0mnode\u001b[0m\u001b[0;34m.\u001b[0m\u001b[0mright\u001b[0m\u001b[0;34m.\u001b[0m\u001b[0mval\u001b[0m\u001b[0;34m)\u001b[0m\u001b[0;34m\u001b[0m\u001b[0;34m\u001b[0m\u001b[0m\n\u001b[0m\u001b[1;32m     36\u001b[0m \u001b[0;34m\u001b[0m\u001b[0m\n\u001b[1;32m     37\u001b[0m \u001b[0;34m\u001b[0m\u001b[0m\n",
      "\u001b[0;31mAttributeError\u001b[0m: 'BST' object has no attribute 'val'"
     ]
    }
   ],
   "source": [
    "b.uniform_cost_search(b.root, 31)"
   ]
  },
  {
   "cell_type": "code",
   "execution_count": null,
   "metadata": {},
   "outputs": [],
   "source": []
  }
 ],
 "metadata": {
  "kernelspec": {
   "display_name": "Python 3",
   "language": "python",
   "name": "python3"
  },
  "language_info": {
   "codemirror_mode": {
    "name": "ipython",
    "version": 3
   },
   "file_extension": ".py",
   "mimetype": "text/x-python",
   "name": "python",
   "nbconvert_exporter": "python",
   "pygments_lexer": "ipython3",
   "version": "3.8.5"
  }
 },
 "nbformat": 4,
 "nbformat_minor": 4
}
