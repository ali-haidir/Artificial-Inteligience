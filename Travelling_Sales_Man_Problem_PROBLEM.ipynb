{
 "cells": [
  {
   "cell_type": "code",
   "execution_count": null,
   "metadata": {},
   "outputs": [],
   "source": [
    "import random\n",
    "import numpy as np\n",
    "\n"
   ]
  },
  {
   "cell_type": "code",
   "execution_count": null,
   "metadata": {},
   "outputs": [],
   "source": [
    "\n",
    "\n",
    "matrix = np.array([\n",
    "      #              0      1      2       3       4       5     6       7      8         9\n",
    "      #     \"\"\"\"   city1  city2  city3   city4   city5   city6  city7  city8  city9    city10\"\"\"\n",
    "    \n",
    "               [     0,    60,    100,    510,    620,    40,    70,    80,    120,     650]    ,   # 0 city1\n",
    "    \n",
    "               [    60,    0,     60,     130,     40,    80,    90,    90,    440,     540]    ,   # 1 city2\n",
    "    \n",
    "               [    100,  60,      0,     450,    450,   860,   910,   190,     10,     145]    ,   # 2 city3\n",
    "    \n",
    "               [    510,  130,    450,      0,     70,  1500,   440,   220,    660,     250]    ,   # 3 city4\n",
    "    \n",
    "               [    620,   40,    450,     70,      0,   260,   160,   330,    120,      50]    ,   # 4 city5\n",
    "    \n",
    "               [     40,   80,    860,   1500,    260,     0,   370,   260,    350,     110]    ,   # 5 city6\n",
    "    \n",
    "               [     70,   90,    910,    440,    160,   370,     0,    50,    120,     270]    ,   # 6 city7\n",
    "    \n",
    "               [     80,   90,    190,    220,    330,   260,    50,     0,    330,     990]    ,   # 7 city8\n",
    "    \n",
    "               [    120,  440,     10,    660,    120,   350,   120,   330,      0,     330]    ,   # 8 city9\n",
    "    \n",
    "               [    650,  540,    145,    250,     50,   110,   270,   990,    330,       0]       # 9 city10\n",
    "                  \n",
    "               ])"
   ]
  },
  {
   "cell_type": "code",
   "execution_count": null,
   "metadata": {},
   "outputs": [],
   "source": [
    "population = []\n",
    "population_size = 10\n",
    "total_cities = 10\n",
    "no_of_excicution = 5"
   ]
  },
  {
   "cell_type": "code",
   "execution_count": null,
   "metadata": {},
   "outputs": [],
   "source": []
  },
  {
   "cell_type": "code",
   "execution_count": null,
   "metadata": {},
   "outputs": [],
   "source": []
  },
  {
   "cell_type": "code",
   "execution_count": null,
   "metadata": {},
   "outputs": [],
   "source": [
    "def city_in_path(path , no):\n",
    "    for i in path:\n",
    "        if i == no:\n",
    "            return True\n",
    "    \n",
    "    return False\n",
    "    "
   ]
  },
  {
   "cell_type": "code",
   "execution_count": null,
   "metadata": {},
   "outputs": [],
   "source": [
    "def generate_one_chromosome():\n",
    "    path=[]\n",
    "   \n",
    "    for i in range(1 ,total_cities+1):\n",
    "        random_no = random.randint(1,10)\n",
    "        \n",
    "        \n",
    "        while(city_in_path(path, random_no)):\n",
    "            \n",
    "            random_no = random.randint(1,10)\n",
    "        path.append(random_no)\n",
    "        \n",
    "    \n",
    "    population.append(path)\n",
    "    print(path)\n",
    "    "
   ]
  },
  {
   "cell_type": "code",
   "execution_count": null,
   "metadata": {},
   "outputs": [],
   "source": [
    "def generate_no_of_chromosomes():\n",
    "    for i in range(1 , population_size +1):\n",
    "        generate_one_chromosome()"
   ]
  },
  {
   "cell_type": "code",
   "execution_count": null,
   "metadata": {},
   "outputs": [],
   "source": [
    "def my_population():\n",
    "    generate_no_of_chromosomes()"
   ]
  },
  {
   "cell_type": "code",
   "execution_count": null,
   "metadata": {},
   "outputs": [],
   "source": [
    "my_population()"
   ]
  },
  {
   "cell_type": "code",
   "execution_count": null,
   "metadata": {},
   "outputs": [],
   "source": []
  },
  {
   "cell_type": "code",
   "execution_count": null,
   "metadata": {},
   "outputs": [],
   "source": []
  },
  {
   "cell_type": "code",
   "execution_count": null,
   "metadata": {},
   "outputs": [],
   "source": [
    "def difference_between_2_cities(cityA , cityB):\n",
    "    \n",
    "    differenc =  matrix[cityB -1 ][cityB -1] - matrix[cityB -1][cityA -1]\n",
    "    difference = abs(differenc)\n",
    "    \n",
    "    return difference\n",
    "    \n",
    "    "
   ]
  },
  {
   "cell_type": "code",
   "execution_count": null,
   "metadata": {},
   "outputs": [],
   "source": [
    "def distance_between_1_chromosome(Chromosome):\n",
    "    \n",
    "    differences_list= []\n",
    "    \n",
    "    for i in range(0 , total_cities -1 ):\n",
    "        difference  = difference_between_2_cities(Chromosome[i] , Chromosome[i+1])\n",
    "        differences_list.append(difference)\n",
    "        \n",
    "    \n",
    "    summ = sum(differences_list)\n",
    "    \n",
    "    return summ"
   ]
  },
  {
   "cell_type": "code",
   "execution_count": null,
   "metadata": {},
   "outputs": [],
   "source": [
    "distance_between_1_chromosome(population[0])"
   ]
  },
  {
   "cell_type": "code",
   "execution_count": null,
   "metadata": {},
   "outputs": [],
   "source": [
    "def distance_between_all_chromosome(population):\n",
    "    distances = []\n",
    "    for i in range(0 , total_cities ):\n",
    "        distance = distance_between_1_chromosome(population[i])\n",
    "        distances.append(distance)\n",
    "        \n",
    "    \n",
    "    return distances\n",
    "        "
   ]
  },
  {
   "cell_type": "code",
   "execution_count": null,
   "metadata": {},
   "outputs": [],
   "source": [
    "def distance_between_all_chromosome(population):\n",
    "    distances = []\n",
    "    for i in range(0 , total_cities ):\n",
    "        distance = distance_between_1_chromosome(population[i])\n",
    "        distances.append(distance)\n",
    "        \n",
    "    \n",
    "    return distances\n",
    "        "
   ]
  },
  {
   "cell_type": "code",
   "execution_count": null,
   "metadata": {},
   "outputs": [],
   "source": [
    "def prob_selection(distances):\n",
    "    probabilty_list = []\n",
    "    \n",
    "    poll_fitness = sum(distances)\n",
    "    print(\"This is the pool fitness: \" ,poll_fitness)\n",
    "    print(\"average = \", poll_fitness/total_cities)\n",
    "    \n",
    "    for i in range(0, total_cities ):\n",
    "        selection_prob = distances[i] / poll_fitness\n",
    "        rounded_selection_prob = round(selection_prob , 4)\n",
    "        probabilty_list.append(rounded_selection_prob)\n",
    "    \n",
    "    return probabilty_list\n",
    "    "
   ]
  },
  {
   "cell_type": "code",
   "execution_count": null,
   "metadata": {},
   "outputs": [],
   "source": [
    "distanceses = distance_between_all_chromosome(population)##______________________________________\n",
    "prob_list = prob_selection(distanceses)\n",
    "\n",
    "print(prob_list)"
   ]
  },
  {
   "cell_type": "code",
   "execution_count": null,
   "metadata": {},
   "outputs": [],
   "source": [
    "def Selection():\n",
    "    random_list = []\n",
    "    \n",
    "    \n",
    "    for i in range(0 , total_cities):\n",
    "        random_num = random.randint(0,9)\n",
    "        random_list.append(random_num)\n",
    "        \n",
    "    \n",
    "        \n",
    "    return(random_list)"
   ]
  },
  {
   "cell_type": "code",
   "execution_count": null,
   "metadata": {},
   "outputs": [],
   "source": []
  },
  {
   "cell_type": "code",
   "execution_count": null,
   "metadata": {},
   "outputs": [],
   "source": [
    "\n"
   ]
  },
  {
   "cell_type": "code",
   "execution_count": null,
   "metadata": {},
   "outputs": [],
   "source": []
  },
  {
   "cell_type": "code",
   "execution_count": null,
   "metadata": {},
   "outputs": [],
   "source": [
    "\n",
    "\n",
    "def check_duplicates(chromo):\n",
    "    if len(chromo) == len(set(chromo)):\n",
    "        return True\n",
    "    else:\n",
    "        return False"
   ]
  },
  {
   "cell_type": "code",
   "execution_count": null,
   "metadata": {},
   "outputs": [],
   "source": [
    "def check_identical(chromo1 , population):\n",
    "    for i in range(0, 10):\n",
    "        if chromo1 != population[i]:\n",
    "            continue\n",
    "        else:\n",
    "            return False\n",
    "    return True"
   ]
  },
  {
   "cell_type": "code",
   "execution_count": null,
   "metadata": {},
   "outputs": [],
   "source": [
    "def mutation(random_list):\n",
    "    aux = total_cities / 2\n",
    "    aux = int(aux)\n",
    "   # print(aux)\n",
    "    \n",
    "    modificated_child_population = []\n",
    "    \n",
    "    \n",
    "    cut_point = random.randint(1,8)\n",
    "  #  print(\"this is the cut point: \" , cut_point)\n",
    "    for i in range(0 ,aux ):\n",
    "        x = random_list.pop(0)\n",
    "        y = random_list.pop(0)\n",
    "        aux1 = population[x]\n",
    "        aux2 = aux1[: cut_point + 1]\n",
    "        aux6 = aux1[cut_point + 1 :]\n",
    "        aux3 = population[y]\n",
    "        aux4 = aux3[cut_point +1 :]\n",
    "        aux7 = aux3[:cut_point +1]\n",
    "        \n",
    "        aux5 = aux2 + aux4\n",
    "        aux8 = aux6 + aux7\n",
    "        \n",
    "        if check_duplicates(aux5) and check_identical(aux5 , population) :\n",
    "            modificated_child_population.append(aux5)\n",
    "        if check_duplicates(aux8) and check_identical(aux8 , population) :\n",
    "            modificated_child_population.append(aux8)\n",
    "        \n",
    "        \n",
    "        \n",
    "        \n",
    "    return modificated_child_population\n",
    "        "
   ]
  },
  {
   "cell_type": "code",
   "execution_count": null,
   "metadata": {},
   "outputs": [],
   "source": []
  },
  {
   "cell_type": "code",
   "execution_count": null,
   "metadata": {},
   "outputs": [],
   "source": [
    "def modification():\n",
    "    new_modified_childs = []\n",
    "    some_modified_childs = []\n",
    "    while len(new_modified_childs) != 10:\n",
    "        random_list= Selection()\n",
    "        some_modified_childs = mutation(random_list)\n",
    "        if some_modified_childs == [] :\n",
    "            continue\n",
    "        else:\n",
    "            new_modified_childs = new_modified_childs + some_modified_childs\n",
    "        \n",
    "                \n",
    "    \n",
    "    return new_modified_childs\n",
    "        \n",
    "    "
   ]
  },
  {
   "cell_type": "code",
   "execution_count": null,
   "metadata": {},
   "outputs": [],
   "source": [
    "def mutation_2(new_modified_childs):\n",
    "    \n",
    "    \n",
    "    for i in range(0, len(new_modified_childs )-1):\n",
    "        \n",
    "        for _ in range(0, len(new_modified_childs[i])):\n",
    "            \n",
    "            ranNum = random.randint(1, 100)\n",
    "            if ranNum >= 1 and ranNum <= 2:\n",
    "                indexOne = random.randint(0, total_cities)\n",
    "                indexTwo = random.randint(0, total_cities)\n",
    "                auxOne = new_modified_childs[i][indexOne]\n",
    "                auxTwo = new_modified_childs[i][indexTwo]\n",
    "                new_modified_childs[i][indexOne] = auxTwo\n",
    "                new_modified_childs[i][indexTwo] = auxOne\n",
    "                \n",
    "    return new_modified_childs\n"
   ]
  },
  {
   "cell_type": "code",
   "execution_count": null,
   "metadata": {},
   "outputs": [],
   "source": [
    "new_modified_childs = modification()\n",
    "print(new_modified_childs)\n"
   ]
  },
  {
   "cell_type": "code",
   "execution_count": null,
   "metadata": {},
   "outputs": [],
   "source": [
    "modification()"
   ]
  },
  {
   "cell_type": "code",
   "execution_count": null,
   "metadata": {},
   "outputs": [],
   "source": [
    "def mutation_2(new_modified_childs):\n",
    "    \n",
    "    \n",
    "    for i in range(0, len(new_modified_childs )-1):\n",
    "        \n",
    "        for _ in range(0, len(new_modified_childs[i])):\n",
    "            \n",
    "            ranNum = random.randint(1, 100)\n",
    "            if ranNum >= 1 and ranNum <= 2:\n",
    "                indexOne = random.randint(0, total_cities)\n",
    "                indexTwo = random.randint(0, total_cities)\n",
    "                auxOne = new_modified_childs[i][indexOne]\n",
    "                auxTwo = new_modified_childs[i][indexTwo]\n",
    "                new_modified_childs[i][indexOne] = auxTwo\n",
    "                new_modified_childs[i][indexTwo] = auxOne\n",
    "                \n",
    "    return new_modified_childs\n"
   ]
  },
  {
   "cell_type": "code",
   "execution_count": null,
   "metadata": {},
   "outputs": [],
   "source": [
    " my_population()"
   ]
  },
  {
   "cell_type": "code",
   "execution_count": null,
   "metadata": {},
   "outputs": [],
   "source": [
    "distanceses = distance_between_all_chromosome(population)"
   ]
  },
  {
   "cell_type": "code",
   "execution_count": null,
   "metadata": {},
   "outputs": [],
   "source": [
    "for i in range(0 , no_of_excicution):\n",
    "    my_population()\n",
    "    \n",
    "    distanceses = distance_between_all_chromosome(population)\n",
    "    prob_list = prob_selection(distanceses)\n",
    "    print(prob_list)\n",
    "    new_modified_childs = modification()\n",
    "    mutation_2(new_modified_childs)\n",
    "    \n",
    "    distanceses = distance_between_all_chromosome(new_modified_childs)\n",
    "    prob_list = prob_selection(distanceses)\n",
    "    population = new_modified_childs\n",
    "    print(\"One exection ended: \", i)\n"
   ]
  },
  {
   "cell_type": "code",
   "execution_count": null,
   "metadata": {},
   "outputs": [],
   "source": []
  }
 ],
 "metadata": {
  "kernelspec": {
   "display_name": "Python 3",
   "language": "python",
   "name": "python3"
  },
  "language_info": {
   "codemirror_mode": {
    "name": "ipython",
    "version": 3
   },
   "file_extension": ".py",
   "mimetype": "text/x-python",
   "name": "python",
   "nbconvert_exporter": "python",
   "pygments_lexer": "ipython3",
   "version": "3.8.5"
  }
 },
 "nbformat": 4,
 "nbformat_minor": 4
}
