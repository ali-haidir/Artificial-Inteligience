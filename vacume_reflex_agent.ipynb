{
 "cells": [
  {
   "cell_type": "code",
   "execution_count": 22,
   "metadata": {},
   "outputs": [],
   "source": [
    "import random"
   ]
  },
  {
   "cell_type": "code",
   "execution_count": 34,
   "metadata": {},
   "outputs": [],
   "source": [
    "class enviroment():\n",
    "    def __init__(self):\n",
    "        \n",
    "        self.condition = {'A': '0', 'B': '0'}  #0 == clean && 1 == dirty\n",
    "        self.condition['A'] = random.randint(0, 1)\n",
    "        self.condition['B'] = random.randint(0, 1)\n",
    "\n"
   ]
  },
  {
   "cell_type": "code",
   "execution_count": 35,
   "metadata": {},
   "outputs": [],
   "source": [
    "class Reflex_Agent(enviroment):\n",
    "    def __init__(self, enviroment):\n",
    "        print (enviroment.condition)\n",
    "        cost = 1\n",
    "        Agent_loc = random.randint(0, 1)\n",
    "        print(\"vacuum is randomly placed at: \", Agent_loc )\n",
    "        print(enviroment.condition['A'])\n",
    "        print(enviroment.condition['B'])\n",
    "\n",
    "        # Vacuum is at Location A.\n",
    "        if Agent_loc == 0:\n",
    "            print (\"Vacuum is at Location A.\")\n",
    "\n",
    "            # Location A is Dirty. ie 1\n",
    "            if enviroment.condition['A'] == 1:\n",
    "                print (\"Location A is Dirty.\")\n",
    "               \n",
    "                enviroment.condition['A'] = 0\n",
    "                cost -= 1\n",
    "                print (\"Location A Cleaned.\")\n",
    "\n",
    "                # move to B\n",
    "                print (\"Moving to Location B...\")\n",
    "                # Movement cost additional one \n",
    "                cost += 1\n",
    "\n",
    "                # B is Dirty\n",
    "                if enviroment.condition['B'] == 1:\n",
    "                    print (\"Location B is Dirty.\")\n",
    "                    enviroment.condition['B'] = 0\n",
    "                    cost -= 1\n",
    "                    print (\"Location B Cleaned.\")\n",
    "                           \n",
    "            else:\n",
    "                cost += 1\n",
    "                \n",
    "                if enviroment.condition['B'] == 1:\n",
    "                    print (\"Location B is Dirty.\")\n",
    "                \n",
    "                    enviroment.condition['B'] = 0;\n",
    "                    cost -= 1\n",
    "                    print (\"Location B Cleaned.\")\n",
    "\n",
    "\n",
    "\n",
    "\n",
    "\n",
    "\n",
    "        elif Agent_loc == 1:\n",
    "            print (\"Vacuum randomly placed at Location B.\")\n",
    "            # and B is Dirty\n",
    "            if enviroment.condition['B'] == 1:\n",
    "                print (\"Location B is Dirty.\")\n",
    "                \n",
    "                enviroment.condition['B'] = 0;\n",
    "                cost -= 1\n",
    "                print (\"Location B has been Cleaned.\")\n",
    "                # move to A\n",
    "                cost += 1\n",
    "                print (\"Moving to Location A...\")\n",
    "                # if A is Dirty\n",
    "                if enviroment.condition['A'] == 1:\n",
    "                    print (\"Location A is Dirty.\")\n",
    "                \n",
    "                    enviroment.condition['A'] = 0;\n",
    "                    cost -= 1\n",
    "                    print (\"Location A has been Cleaned.\")\n",
    "            else:\n",
    "                print (\"Moving to Location A...\")\n",
    "                cost += 1\n",
    "                # if A is Dirty\n",
    "                if enviroment.condition['A'] == 1:\n",
    "                    print (\"Location A is Dirty.\")\n",
    "                \n",
    "                    enviroment.condition['A'] = 0;\n",
    "                    cost -= 1\n",
    "                    print (\"Location A has been Cleaned.\")\n",
    "        # done cleaning\n",
    "        print (enviroment.condition)\n",
    "        print(\"cost for cleaning : \" , cost)\n",
    "        \n",
    "\n",
    "\n"
   ]
  },
  {
   "cell_type": "code",
   "execution_count": 36,
   "metadata": {},
   "outputs": [
    {
     "name": "stdout",
     "output_type": "stream",
     "text": [
      "{'A': 1, 'B': 1}\n",
      "vacuum is randomly placed at:  0\n",
      "1\n",
      "1\n",
      "Vacuum is at Location A.\n",
      "Location A is Dirty.\n",
      "Location A Cleaned.\n",
      "Moving to Location B...\n",
      "Location B is Dirty.\n",
      "Location B Cleaned.\n",
      "{'A': 0, 'B': 0}\n",
      "cost for cleaning :  0\n"
     ]
    }
   ],
   "source": [
    "env = enviroment()\n",
    "agent = Reflex_Agent(env)"
   ]
  },
  {
   "cell_type": "code",
   "execution_count": null,
   "metadata": {},
   "outputs": [],
   "source": []
  }
 ],
 "metadata": {
  "kernelspec": {
   "display_name": "Python 3",
   "language": "python",
   "name": "python3"
  },
  "language_info": {
   "codemirror_mode": {
    "name": "ipython",
    "version": 3
   },
   "file_extension": ".py",
   "mimetype": "text/x-python",
   "name": "python",
   "nbconvert_exporter": "python",
   "pygments_lexer": "ipython3",
   "version": "3.8.5"
  }
 },
 "nbformat": 4,
 "nbformat_minor": 4
}
