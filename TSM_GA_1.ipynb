{
 "cells": [
  {
   "cell_type": "code",
   "execution_count": 1,
   "metadata": {},
   "outputs": [],
   "source": [
    "import random\n",
    "import numpy as np\n",
    "\n"
   ]
  },
  {
   "cell_type": "code",
   "execution_count": null,
   "metadata": {},
   "outputs": [],
   "source": []
  },
  {
   "cell_type": "code",
   "execution_count": 2,
   "metadata": {},
   "outputs": [],
   "source": [
    "\n",
    "\n",
    "matrix = np.array([\n",
    "      #              0      1      2       3       4       5     6       7      8         9\n",
    "      #     \"\"\"\"   city1  city2  city3   city4   city5   city6  city7  city8  city9    city10\"\"\"\n",
    "    \n",
    "               [     0,    60,    100,    510,    620,    40,    70,    80,    120,     650]    ,   # 0 city1\n",
    "    \n",
    "               [    60,    0,     60,     130,     40,    80,    90,    90,    440,     540]    ,   # 1 city2\n",
    "    \n",
    "               [    100,  60,      0,     450,    450,   860,   910,   190,     10,     145]    ,   # 2 city3\n",
    "    \n",
    "               [    510,  130,    450,      0,     70,  1500,   440,   220,    660,     250]    ,   # 3 city4\n",
    "    \n",
    "               [    620,   40,    450,     70,      0,   260,   160,   330,    120,      50]    ,   # 4 city5\n",
    "    \n",
    "               [     40,   80,    860,   1500,    260,     0,   370,   260,    350,     110]    ,   # 5 city6\n",
    "    \n",
    "               [     70,   90,    910,    440,    160,   370,     0,    50,    120,     270]    ,   # 6 city7\n",
    "    \n",
    "               [     80,   90,    190,    220,    330,   260,    50,     0,    330,     990]    ,   # 7 city8\n",
    "    \n",
    "               [    120,  440,     10,    660,    120,   350,   120,   330,      0,     330]    ,   # 8 city9\n",
    "    \n",
    "               [    650,  540,    145,    250,     50,   110,   270,   990,    330,       0]       # 9 city10\n",
    "                  \n",
    "               ])"
   ]
  },
  {
   "cell_type": "code",
   "execution_count": null,
   "metadata": {},
   "outputs": [],
   "source": []
  },
  {
   "cell_type": "code",
   "execution_count": null,
   "metadata": {
    "scrolled": false
   },
   "outputs": [],
   "source": [
    "\n",
    "                                                      "
   ]
  },
  {
   "cell_type": "code",
   "execution_count": null,
   "metadata": {},
   "outputs": [],
   "source": []
  },
  {
   "cell_type": "code",
   "execution_count": 3,
   "metadata": {},
   "outputs": [],
   "source": [
    "population = []\n",
    "population_size = 10\n",
    "total_cities = 10\n",
    "no_of_excicution = 5"
   ]
  },
  {
   "cell_type": "code",
   "execution_count": null,
   "metadata": {},
   "outputs": [],
   "source": []
  },
  {
   "cell_type": "code",
   "execution_count": 4,
   "metadata": {},
   "outputs": [],
   "source": [
    "#  chromosome representation == binary strings  i.e 10 randomly selected nodes(cities) in one cromosome.\n",
    "#  population size == should be approximate 20 -30 but for assignments sake is 10 in our case\n",
    "#  crossover rate == randomly selected cutpoint for modification of each gene\n",
    "# mutation rate== 2% as this rate should be low and is nessesary for the algorithm to reach goal "
   ]
  },
  {
   "cell_type": "markdown",
   "metadata": {},
   "source": [
    "\n",
    "# PHASE  1"
   ]
  },
  {
   "cell_type": "code",
   "execution_count": 5,
   "metadata": {},
   "outputs": [],
   "source": [
    "def city_in_path(path , no):\n",
    "    for i in path:\n",
    "        if i == no:\n",
    "            return True\n",
    "    \n",
    "    return False\n",
    "    "
   ]
  },
  {
   "cell_type": "code",
   "execution_count": 6,
   "metadata": {},
   "outputs": [],
   "source": [
    "def generate_one_chromosome():\n",
    "    path=[]\n",
    "   \n",
    "    for i in range(1 ,total_cities+1):\n",
    "        random_no = random.randint(1,10)\n",
    "        \n",
    "        \n",
    "        while(city_in_path(path, random_no)):\n",
    "            \n",
    "            random_no = random.randint(1,10)\n",
    "        path.append(random_no)\n",
    "        \n",
    "    \n",
    "    population.append(path)\n",
    "    print(path)\n",
    "    "
   ]
  },
  {
   "cell_type": "code",
   "execution_count": 7,
   "metadata": {},
   "outputs": [],
   "source": [
    "def generate_no_of_chromosomes():\n",
    "    for i in range(1 , population_size +1):\n",
    "        generate_one_chromosome()"
   ]
  },
  {
   "cell_type": "code",
   "execution_count": 8,
   "metadata": {},
   "outputs": [],
   "source": [
    "def my_population():\n",
    "    generate_no_of_chromosomes()"
   ]
  },
  {
   "cell_type": "code",
   "execution_count": 9,
   "metadata": {},
   "outputs": [
    {
     "name": "stdout",
     "output_type": "stream",
     "text": [
      "[10, 4, 9, 6, 1, 3, 7, 2, 5, 8]\n",
      "[1, 7, 10, 8, 3, 2, 6, 9, 4, 5]\n",
      "[2, 5, 3, 6, 4, 10, 9, 8, 7, 1]\n",
      "[10, 3, 6, 8, 5, 7, 2, 4, 9, 1]\n",
      "[10, 4, 6, 2, 5, 7, 8, 9, 1, 3]\n",
      "[4, 9, 8, 6, 3, 2, 5, 1, 7, 10]\n",
      "[8, 7, 9, 5, 10, 4, 1, 2, 3, 6]\n",
      "[5, 8, 7, 10, 3, 9, 6, 1, 4, 2]\n",
      "[1, 2, 10, 7, 5, 9, 4, 8, 3, 6]\n",
      "[2, 8, 10, 5, 4, 9, 6, 7, 1, 3]\n"
     ]
    }
   ],
   "source": [
    "my_population()"
   ]
  },
  {
   "cell_type": "code",
   "execution_count": null,
   "metadata": {},
   "outputs": [],
   "source": []
  },
  {
   "cell_type": "code",
   "execution_count": null,
   "metadata": {},
   "outputs": [],
   "source": [
    "##________________________________________________________________________________________________________##"
   ]
  },
  {
   "cell_type": "code",
   "execution_count": null,
   "metadata": {},
   "outputs": [],
   "source": []
  },
  {
   "cell_type": "markdown",
   "metadata": {},
   "source": [
    "# PHASE 2"
   ]
  },
  {
   "cell_type": "code",
   "execution_count": null,
   "metadata": {},
   "outputs": [],
   "source": [
    "\n"
   ]
  },
  {
   "cell_type": "code",
   "execution_count": null,
   "metadata": {},
   "outputs": [],
   "source": []
  },
  {
   "cell_type": "code",
   "execution_count": 10,
   "metadata": {},
   "outputs": [],
   "source": [
    "def difference_between_2_cities(cityA , cityB):\n",
    "    \n",
    "    differenc =  matrix[cityB -1 ][cityB -1] - matrix[cityB -1][cityA -1]\n",
    "    difference = abs(differenc)\n",
    "    \n",
    "    return difference\n",
    "    \n",
    "    "
   ]
  },
  {
   "cell_type": "code",
   "execution_count": 11,
   "metadata": {},
   "outputs": [],
   "source": [
    "#difference_between_2_cities(5,4)"
   ]
  },
  {
   "cell_type": "code",
   "execution_count": 12,
   "metadata": {},
   "outputs": [],
   "source": [
    "def distance_between_1_chromosome(Chromosome):\n",
    "    \n",
    "    differences_list= []\n",
    "    \n",
    "    for i in range(0 , total_cities -1 ):\n",
    "        difference  = difference_between_2_cities(Chromosome[i] , Chromosome[i+1])\n",
    "        differences_list.append(difference)\n",
    "        \n",
    "    \n",
    "    summ = sum(differences_list)\n",
    "    \n",
    "    return summ"
   ]
  },
  {
   "cell_type": "code",
   "execution_count": 13,
   "metadata": {},
   "outputs": [
    {
     "data": {
      "text/plain": [
       "2770"
      ]
     },
     "execution_count": 13,
     "metadata": {},
     "output_type": "execute_result"
    }
   ],
   "source": [
    "distance_between_1_chromosome(population[0])"
   ]
  },
  {
   "cell_type": "code",
   "execution_count": null,
   "metadata": {},
   "outputs": [],
   "source": []
  },
  {
   "cell_type": "code",
   "execution_count": 14,
   "metadata": {},
   "outputs": [],
   "source": [
    "def distance_between_all_chromosome(population):\n",
    "    distances = []\n",
    "    for i in range(0 , total_cities ):\n",
    "        distance = distance_between_1_chromosome(population[i])\n",
    "        distances.append(distance)\n",
    "        \n",
    "    \n",
    "    return distances\n",
    "        "
   ]
  },
  {
   "cell_type": "code",
   "execution_count": 15,
   "metadata": {},
   "outputs": [
    {
     "data": {
      "text/plain": [
       "[2770, 2740, 3880, 2755, 2630, 3170, 2080, 1835, 3080, 2750]"
      ]
     },
     "execution_count": 15,
     "metadata": {},
     "output_type": "execute_result"
    }
   ],
   "source": [
    "distance_between_all_chromosome(population)\n"
   ]
  },
  {
   "cell_type": "code",
   "execution_count": 16,
   "metadata": {},
   "outputs": [],
   "source": [
    "def prob_selection(distances):\n",
    "    probabilty_list = []\n",
    "    \n",
    "    poll_fitness = sum(distances)\n",
    "    print(\"This is the pool fitness: \" ,poll_fitness)\n",
    "    print(\"average = \", poll_fitness/total_cities)\n",
    "    \n",
    "    for i in range(0, total_cities ):\n",
    "        selection_prob = distances[i] / poll_fitness\n",
    "        rounded_selection_prob = round(selection_prob , 4)\n",
    "        probabilty_list.append(rounded_selection_prob)\n",
    "    \n",
    "    return probabilty_list\n",
    "    "
   ]
  },
  {
   "cell_type": "code",
   "execution_count": 18,
   "metadata": {},
   "outputs": [
    {
     "name": "stdout",
     "output_type": "stream",
     "text": [
      "This is the pool fitness:  27690\n",
      "average =  2769.0\n",
      "[0.1, 0.099, 0.1401, 0.0995, 0.095, 0.1145, 0.0751, 0.0663, 0.1112, 0.0993]\n"
     ]
    }
   ],
   "source": [
    "distanceses = distance_between_all_chromosome(population)##______________________________________\n",
    "prob_list = prob_selection(distanceses)\n",
    "\n",
    "print(prob_list)"
   ]
  },
  {
   "cell_type": "code",
   "execution_count": 19,
   "metadata": {},
   "outputs": [],
   "source": [
    "def Selection():\n",
    "    random_list = []\n",
    "    \n",
    "    \n",
    "    for i in range(0 , total_cities):\n",
    "        random_num = random.randint(0,9)\n",
    "        random_list.append(random_num)\n",
    "        \n",
    "    \n",
    "        \n",
    "    return(random_list)"
   ]
  },
  {
   "cell_type": "code",
   "execution_count": 20,
   "metadata": {},
   "outputs": [
    {
     "name": "stdout",
     "output_type": "stream",
     "text": [
      "[4, 9, 1, 3, 9, 5, 5, 1, 1, 9]\n"
     ]
    }
   ],
   "source": [
    "test11 = Selection()\n",
    "print(test11)\n"
   ]
  },
  {
   "cell_type": "code",
   "execution_count": null,
   "metadata": {},
   "outputs": [],
   "source": []
  },
  {
   "cell_type": "code",
   "execution_count": null,
   "metadata": {},
   "outputs": [],
   "source": [
    "##_______________________________________________________________________________________________________##"
   ]
  },
  {
   "cell_type": "code",
   "execution_count": null,
   "metadata": {},
   "outputs": [],
   "source": []
  },
  {
   "cell_type": "code",
   "execution_count": null,
   "metadata": {},
   "outputs": [],
   "source": []
  },
  {
   "cell_type": "markdown",
   "metadata": {},
   "source": [
    "#                                            PHASE 3"
   ]
  },
  {
   "cell_type": "code",
   "execution_count": null,
   "metadata": {},
   "outputs": [],
   "source": []
  },
  {
   "cell_type": "code",
   "execution_count": null,
   "metadata": {},
   "outputs": [],
   "source": [
    "\n"
   ]
  },
  {
   "cell_type": "code",
   "execution_count": null,
   "metadata": {},
   "outputs": [],
   "source": []
  },
  {
   "cell_type": "code",
   "execution_count": 21,
   "metadata": {},
   "outputs": [],
   "source": [
    "def check_duplicates(chromo):\n",
    "    if len(chromo) == len(set(chromo)):\n",
    "        return True\n",
    "    else:\n",
    "        return False"
   ]
  },
  {
   "cell_type": "code",
   "execution_count": 22,
   "metadata": {},
   "outputs": [],
   "source": [
    "def check_identical(chromo1 , population):\n",
    "    for i in range(0, 10):\n",
    "        if chromo1 != population[i]:\n",
    "            continue\n",
    "        else:\n",
    "            return False\n",
    "    return True"
   ]
  },
  {
   "cell_type": "code",
   "execution_count": null,
   "metadata": {},
   "outputs": [],
   "source": []
  },
  {
   "cell_type": "code",
   "execution_count": null,
   "metadata": {},
   "outputs": [],
   "source": []
  },
  {
   "cell_type": "code",
   "execution_count": null,
   "metadata": {},
   "outputs": [],
   "source": []
  },
  {
   "cell_type": "code",
   "execution_count": 23,
   "metadata": {},
   "outputs": [],
   "source": [
    "def mutation(random_list):\n",
    "    aux = total_cities / 2\n",
    "    aux = int(aux)\n",
    "   # print(aux)\n",
    "    \n",
    "    modificated_child_population = []\n",
    "    \n",
    "    \n",
    "    cut_point = random.randint(1,8)\n",
    "  #  print(\"this is the cut point: \" , cut_point)\n",
    "    for i in range(0 ,aux ):\n",
    "        x = random_list.pop(0)\n",
    "        y = random_list.pop(0)\n",
    "        aux1 = population[x]\n",
    "        aux2 = aux1[: cut_point + 1]\n",
    "        aux6 = aux1[cut_point + 1 :]\n",
    "        aux3 = population[y]\n",
    "        aux4 = aux3[cut_point +1 :]\n",
    "        aux7 = aux3[:cut_point +1]\n",
    "        \n",
    "        aux5 = aux2 + aux4\n",
    "        aux8 = aux6 + aux7\n",
    "        \n",
    "        if check_duplicates(aux5) and check_identical(aux5 , population) :\n",
    "            modificated_child_population.append(aux5)\n",
    "        if check_duplicates(aux8) and check_identical(aux8 , population) :\n",
    "            modificated_child_population.append(aux8)\n",
    "        \n",
    "        \n",
    "        \n",
    "        \n",
    "    return modificated_child_population\n",
    "        "
   ]
  },
  {
   "cell_type": "code",
   "execution_count": 24,
   "metadata": {},
   "outputs": [
    {
     "name": "stdout",
     "output_type": "stream",
     "text": [
      "[9, 8, 4, 7, 3, 6, 2, 1, 5, 7]\n"
     ]
    }
   ],
   "source": [
    "test11 = Selection()\n",
    "print(test11)\n"
   ]
  },
  {
   "cell_type": "code",
   "execution_count": 25,
   "metadata": {},
   "outputs": [
    {
     "name": "stdout",
     "output_type": "stream",
     "text": [
      "[]\n"
     ]
    }
   ],
   "source": [
    "childs = mutation(test11)\n",
    "print(childs)"
   ]
  },
  {
   "cell_type": "code",
   "execution_count": 26,
   "metadata": {},
   "outputs": [],
   "source": [
    "def modification():\n",
    "    new_modified_childs = []\n",
    "    some_modified_childs = []\n",
    "    while len(new_modified_childs) != 8:\n",
    "        random_list= Selection()\n",
    "        some_modified_childs = mutation(random_list)\n",
    "        if some_modified_childs == [] :\n",
    "            continue\n",
    "        else:\n",
    "            new_modified_childs = new_modified_childs + some_modified_childs\n",
    "        \n",
    "                \n",
    "    \n",
    "    return new_modified_childs\n",
    "        "
   ]
  },
  {
   "cell_type": "code",
   "execution_count": null,
   "metadata": {},
   "outputs": [],
   "source": []
  },
  {
   "cell_type": "code",
   "execution_count": null,
   "metadata": {},
   "outputs": [],
   "source": [
    "new_modified_childs = modification()\n",
    "print(new_modified_childs)\n"
   ]
  },
  {
   "cell_type": "code",
   "execution_count": null,
   "metadata": {},
   "outputs": [],
   "source": [
    "modification()"
   ]
  },
  {
   "cell_type": "code",
   "execution_count": null,
   "metadata": {},
   "outputs": [],
   "source": []
  },
  {
   "cell_type": "code",
   "execution_count": null,
   "metadata": {},
   "outputs": [],
   "source": [
    "def mutation_2(new_modified_childs):\n",
    "    \n",
    "    \n",
    "    for i in range(0, len(new_modified_childs )-1):\n",
    "        \n",
    "        for _ in range(0, len(new_modified_childs[i])):\n",
    "            \n",
    "            ranNum = random.randint(1, 100)\n",
    "            if ranNum >= 1 and ranNum <= 2:\n",
    "                indexOne = random.randint(0, total_cities)\n",
    "                indexTwo = random.randint(0, total_cities)\n",
    "                auxOne = new_modified_childs[i][indexOne]\n",
    "                auxTwo = new_modified_childs[i][indexTwo]\n",
    "                new_modified_childs[i][indexOne] = auxTwo\n",
    "                new_modified_childs[i][indexTwo] = auxOne\n",
    "                \n",
    "    return new_modified_childs\n"
   ]
  },
  {
   "cell_type": "code",
   "execution_count": null,
   "metadata": {},
   "outputs": [],
   "source": []
  },
  {
   "cell_type": "code",
   "execution_count": null,
   "metadata": {},
   "outputs": [],
   "source": [
    "#modification()"
   ]
  },
  {
   "cell_type": "code",
   "execution_count": null,
   "metadata": {},
   "outputs": [],
   "source": [
    "mutation_2(new_modified_childs)"
   ]
  },
  {
   "cell_type": "markdown",
   "metadata": {},
   "source": [
    "# Phase 4"
   ]
  },
  {
   "cell_type": "code",
   "execution_count": null,
   "metadata": {},
   "outputs": [],
   "source": []
  },
  {
   "cell_type": "code",
   "execution_count": null,
   "metadata": {},
   "outputs": [],
   "source": [
    " my_population()"
   ]
  },
  {
   "cell_type": "code",
   "execution_count": null,
   "metadata": {},
   "outputs": [],
   "source": [
    "distanceses = distance_between_all_chromosome(population)"
   ]
  },
  {
   "cell_type": "code",
   "execution_count": null,
   "metadata": {},
   "outputs": [],
   "source": [
    "prob_list = prob_selection(distanceses)"
   ]
  },
  {
   "cell_type": "code",
   "execution_count": null,
   "metadata": {},
   "outputs": [],
   "source": [
    "new_modified_childs = modification()"
   ]
  },
  {
   "cell_type": "code",
   "execution_count": null,
   "metadata": {},
   "outputs": [],
   "source": [
    "mutation_2(new_modified_childs)"
   ]
  },
  {
   "cell_type": "code",
   "execution_count": null,
   "metadata": {},
   "outputs": [],
   "source": [
    "distanceses = distance_between_all_chromosome(new_modified_childs)"
   ]
  },
  {
   "cell_type": "code",
   "execution_count": null,
   "metadata": {},
   "outputs": [],
   "source": [
    "prob_list = prob_selection(distanceses)"
   ]
  },
  {
   "cell_type": "code",
   "execution_count": null,
   "metadata": {},
   "outputs": [],
   "source": [
    "for i in range(0 , no_of_excicution):\n",
    "    my_population()\n",
    "    \n",
    "    distanceses = distance_between_all_chromosome(population)\n",
    "    prob_list = prob_selection(distanceses)\n",
    "    print(prob_list)\n",
    "    new_modified_childs = modification()\n",
    "    mutation_2(new_modified_childs)\n",
    "    \n",
    "    distanceses = distance_between_all_chromosome(new_modified_childs)\n",
    "    prob_list = prob_selection(distanceses)\n",
    "    population = new_modified_childs\n",
    "    print(\"One exection ended: \", i)\n"
   ]
  },
  {
   "cell_type": "code",
   "execution_count": null,
   "metadata": {},
   "outputs": [],
   "source": []
  },
  {
   "cell_type": "code",
   "execution_count": null,
   "metadata": {},
   "outputs": [],
   "source": []
  },
  {
   "cell_type": "code",
   "execution_count": null,
   "metadata": {},
   "outputs": [],
   "source": []
  }
 ],
 "metadata": {
  "kernelspec": {
   "display_name": "Python 3",
   "language": "python",
   "name": "python3"
  },
  "language_info": {
   "codemirror_mode": {
    "name": "ipython",
    "version": 3
   },
   "file_extension": ".py",
   "mimetype": "text/x-python",
   "name": "python",
   "nbconvert_exporter": "python",
   "pygments_lexer": "ipython3",
   "version": "3.8.5"
  }
 },
 "nbformat": 4,
 "nbformat_minor": 4
}
